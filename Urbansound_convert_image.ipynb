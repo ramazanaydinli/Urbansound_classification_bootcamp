{
  "nbformat": 4,
  "nbformat_minor": 0,
  "metadata": {
    "colab": {
      "provenance": []
    },
    "kernelspec": {
      "name": "python3",
      "display_name": "Python 3"
    },
    "language_info": {
      "name": "python"
    }
  },
  "cells": [
    {
      "cell_type": "code",
      "execution_count": 1,
      "metadata": {
        "id": "ZYNH_YHcbhd5"
      },
      "outputs": [],
      "source": [
        "import tarfile as tar\n",
        "import librosa\n",
        "import librosa.display\n",
        "import matplotlib.pyplot as plt\n",
        "import numpy as np\n",
        "import os\n"
      ]
    },
    {
      "cell_type": "code",
      "source": [
        "file = tar.open(\"UrbanSound8K.tar.gz\")\n",
        "file.extractall()\n",
        "file.close()"
      ],
      "metadata": {
        "id": "Af58dC_5bnWg"
      },
      "execution_count": null,
      "outputs": []
    },
    {
      "cell_type": "code",
      "source": [
        "def create_spectrogram(y):\n",
        "    spec = librosa.feature.melspectrogram(y=y)\n",
        "    spec_conv = librosa.amplitude_to_db(spec, ref = np.max)\n",
        "    return spec_conv\n",
        "\n",
        "cwd = os.getcwd()\n",
        "# print(cwd)\n",
        "directory_of_sound_files = os.path.join(cwd, \"UrbanSound8K\", \"audio\")\n",
        "# print(directory_of_sound_files)\n",
        "for i in range(10):\n",
        "    specific_path = os.path.join(directory_of_sound_files, \"fold{}\".format(i+1))\n",
        "    # print(specific_path)\n",
        "    dir_to_save = os.path.join(cwd, \"Spectrogram\", \"{}\".format(i))\n",
        "    # print(path_to_save)\n",
        "    if not os.path.exists(dir_to_save):\n",
        "        os.makedirs(dir_to_save)\n",
        "    for filename in os.listdir(specific_path):\n",
        "        try:\n",
        "            file_path = os.path.join(specific_path, filename)\n",
        "            # print(filename)\n",
        "            y, sr = librosa.load(file_path)\n",
        "            spectrogram = create_spectrogram(y)\n",
        "            # print(type(spectrogram))\n",
        "            plot = librosa.display.specshow(spectrogram)\n",
        "            name_without_extension = os.path.splitext(filename)[0]\n",
        "            # print(name_without_extension)\n",
        "            path_to_save = os.path.join(dir_to_save, name_without_extension)\n",
        "            plt.savefig(\"{}.png\".format(path_to_save),bbox_inches='tight', pad_inches = 0)\n",
        "            plt.close()\n",
        "        except:\n",
        "            print(file_path, \"caused an error\")\n"
      ],
      "metadata": {
        "id": "F8r8o4EFbroi"
      },
      "execution_count": null,
      "outputs": []
    }
  ]
}